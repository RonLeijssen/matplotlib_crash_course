{
 "cells": [
  {
   "cell_type": "code",
   "execution_count": 1,
   "id": "881027b6",
   "metadata": {},
   "outputs": [],
   "source": [
    "# Importing the necessary libraries.\n",
    "import pandas as pd\n",
    "import numpy as np"
   ]
  },
  {
   "cell_type": "code",
   "execution_count": 2,
   "id": "86e60983",
   "metadata": {},
   "outputs": [
    {
     "data": {
      "text/html": [
       "<div>\n",
       "<style scoped>\n",
       "    .dataframe tbody tr th:only-of-type {\n",
       "        vertical-align: middle;\n",
       "    }\n",
       "\n",
       "    .dataframe tbody tr th {\n",
       "        vertical-align: top;\n",
       "    }\n",
       "\n",
       "    .dataframe thead th {\n",
       "        text-align: right;\n",
       "    }\n",
       "</style>\n",
       "<table border=\"1\" class=\"dataframe\">\n",
       "  <thead>\n",
       "    <tr style=\"text-align: right;\">\n",
       "      <th></th>\n",
       "      <th>Bedrijfstakken/branches (SBI 2008)</th>\n",
       "      <th>Perioden</th>\n",
       "      <th>Omzet ongecorrigeerd/Indexcijfers/Waarde (2015=100)</th>\n",
       "      <th>Omzet ongecorrigeerd/Indexcijfers/Volume (2015=100)</th>\n",
       "    </tr>\n",
       "  </thead>\n",
       "  <tbody>\n",
       "    <tr>\n",
       "      <th>0</th>\n",
       "      <td>4711, 472 Winkels in voedingsmiddelen</td>\n",
       "      <td>2005 januari</td>\n",
       "      <td>73.1</td>\n",
       "      <td>86.4</td>\n",
       "    </tr>\n",
       "    <tr>\n",
       "      <th>1</th>\n",
       "      <td>4711, 472 Winkels in voedingsmiddelen</td>\n",
       "      <td>2005 februari</td>\n",
       "      <td>71.5</td>\n",
       "      <td>83.9</td>\n",
       "    </tr>\n",
       "    <tr>\n",
       "      <th>2</th>\n",
       "      <td>4711, 472 Winkels in voedingsmiddelen</td>\n",
       "      <td>2005 maart</td>\n",
       "      <td>83.0</td>\n",
       "      <td>96.8</td>\n",
       "    </tr>\n",
       "    <tr>\n",
       "      <th>3</th>\n",
       "      <td>4711, 472 Winkels in voedingsmiddelen</td>\n",
       "      <td>2005 april</td>\n",
       "      <td>79.8</td>\n",
       "      <td>94.1</td>\n",
       "    </tr>\n",
       "    <tr>\n",
       "      <th>4</th>\n",
       "      <td>4711, 472 Winkels in voedingsmiddelen</td>\n",
       "      <td>2005 mei</td>\n",
       "      <td>78.5</td>\n",
       "      <td>92.1</td>\n",
       "    </tr>\n",
       "  </tbody>\n",
       "</table>\n",
       "</div>"
      ],
      "text/plain": [
       "      Bedrijfstakken/branches (SBI 2008)       Perioden  \\\n",
       "0  4711, 472 Winkels in voedingsmiddelen   2005 januari   \n",
       "1  4711, 472 Winkels in voedingsmiddelen  2005 februari   \n",
       "2  4711, 472 Winkels in voedingsmiddelen     2005 maart   \n",
       "3  4711, 472 Winkels in voedingsmiddelen     2005 april   \n",
       "4  4711, 472 Winkels in voedingsmiddelen       2005 mei   \n",
       "\n",
       "  Omzet ongecorrigeerd/Indexcijfers/Waarde (2015=100)  \\\n",
       "0                                               73.1    \n",
       "1                                               71.5    \n",
       "2                                               83.0    \n",
       "3                                               79.8    \n",
       "4                                               78.5    \n",
       "\n",
       "  Omzet ongecorrigeerd/Indexcijfers/Volume (2015=100)  \n",
       "0                                               86.4   \n",
       "1                                               83.9   \n",
       "2                                               96.8   \n",
       "3                                               94.1   \n",
       "4                                               92.1   "
      ]
     },
     "execution_count": 2,
     "metadata": {},
     "output_type": "execute_result"
    }
   ],
   "source": [
    "# Reading a CSV file\n",
    "df = pd.read_csv(\"retail-data.csv\", delimiter=';')\n",
    "df.head()"
   ]
  },
  {
   "cell_type": "code",
   "execution_count": 3,
   "id": "fb80bd30",
   "metadata": {},
   "outputs": [],
   "source": [
    "# Renaming the column names\n",
    "new_name = {'Bedrijfstakken/branches (SBI 2008)': 'Branch',\n",
    "           'Perioden': 'Period',\n",
    "           'Omzet ongecorrigeerd/Indexcijfers/Waarde (2015=100)': 'index_value',\n",
    "           'Omzet ongecorrigeerd/Indexcijfers/Volume (2015=100)': 'index_volume'\n",
    "            }\n",
    "\n",
    "df.rename(columns = new_name, inplace = True)\n",
    "#print(df)"
   ]
  },
  {
   "cell_type": "code",
   "execution_count": 4,
   "id": "50f8270b",
   "metadata": {},
   "outputs": [
    {
     "data": {
      "text/html": [
       "<div>\n",
       "<style scoped>\n",
       "    .dataframe tbody tr th:only-of-type {\n",
       "        vertical-align: middle;\n",
       "    }\n",
       "\n",
       "    .dataframe tbody tr th {\n",
       "        vertical-align: top;\n",
       "    }\n",
       "\n",
       "    .dataframe thead th {\n",
       "        text-align: right;\n",
       "    }\n",
       "</style>\n",
       "<table border=\"1\" class=\"dataframe\">\n",
       "  <thead>\n",
       "    <tr style=\"text-align: right;\">\n",
       "      <th></th>\n",
       "      <th>Branch</th>\n",
       "      <th>Period</th>\n",
       "      <th>index_value</th>\n",
       "      <th>index_volume</th>\n",
       "    </tr>\n",
       "  </thead>\n",
       "  <tbody>\n",
       "    <tr>\n",
       "      <th>0</th>\n",
       "      <td>4711, 472 Winkels in voedingsmiddelen</td>\n",
       "      <td>2005 januari</td>\n",
       "      <td>73.1</td>\n",
       "      <td>86.4</td>\n",
       "    </tr>\n",
       "    <tr>\n",
       "      <th>1</th>\n",
       "      <td>4711, 472 Winkels in voedingsmiddelen</td>\n",
       "      <td>2005 februari</td>\n",
       "      <td>71.5</td>\n",
       "      <td>83.9</td>\n",
       "    </tr>\n",
       "    <tr>\n",
       "      <th>2</th>\n",
       "      <td>4711, 472 Winkels in voedingsmiddelen</td>\n",
       "      <td>2005 maart</td>\n",
       "      <td>83.0</td>\n",
       "      <td>96.8</td>\n",
       "    </tr>\n",
       "    <tr>\n",
       "      <th>3</th>\n",
       "      <td>4711, 472 Winkels in voedingsmiddelen</td>\n",
       "      <td>2005 april</td>\n",
       "      <td>79.8</td>\n",
       "      <td>94.1</td>\n",
       "    </tr>\n",
       "    <tr>\n",
       "      <th>4</th>\n",
       "      <td>4711, 472 Winkels in voedingsmiddelen</td>\n",
       "      <td>2005 mei</td>\n",
       "      <td>78.5</td>\n",
       "      <td>92.1</td>\n",
       "    </tr>\n",
       "  </tbody>\n",
       "</table>\n",
       "</div>"
      ],
      "text/plain": [
       "                                  Branch         Period index_value  \\\n",
       "0  4711, 472 Winkels in voedingsmiddelen   2005 januari        73.1   \n",
       "1  4711, 472 Winkels in voedingsmiddelen  2005 februari        71.5   \n",
       "2  4711, 472 Winkels in voedingsmiddelen     2005 maart        83.0   \n",
       "3  4711, 472 Winkels in voedingsmiddelen     2005 april        79.8   \n",
       "4  4711, 472 Winkels in voedingsmiddelen       2005 mei        78.5   \n",
       "\n",
       "  index_volume  \n",
       "0         86.4  \n",
       "1         83.9  \n",
       "2         96.8  \n",
       "3         94.1  \n",
       "4         92.1  "
      ]
     },
     "execution_count": 4,
     "metadata": {},
     "output_type": "execute_result"
    }
   ],
   "source": [
    "# Replacing the values in the row\n",
    "replace_values = {\"\": -1}\n",
    "\n",
    "df = df.replace({\"index_value\": replace_values, \"index_volume\": replace_values})                                                                                             \n",
    "\n",
    "df.head()"
   ]
  },
  {
   "cell_type": "code",
   "execution_count": 5,
   "id": "15f8fe50",
   "metadata": {},
   "outputs": [
    {
     "name": "stdout",
     "output_type": "stream",
     "text": [
      "4711, 472 Winkels in voedingsmiddelen\n",
      "2005 januari\n"
     ]
    }
   ],
   "source": [
    "print(df.iat[0,0])\n",
    "print(df.at[0,'Period'])"
   ]
  },
  {
   "cell_type": "code",
   "execution_count": null,
   "id": "00fdd96d",
   "metadata": {},
   "outputs": [],
   "source": []
  }
 ],
 "metadata": {
  "kernelspec": {
   "display_name": "Python 3",
   "language": "python",
   "name": "python3"
  },
  "language_info": {
   "codemirror_mode": {
    "name": "ipython",
    "version": 3
   },
   "file_extension": ".py",
   "mimetype": "text/x-python",
   "name": "python",
   "nbconvert_exporter": "python",
   "pygments_lexer": "ipython3",
   "version": "3.9.4"
  }
 },
 "nbformat": 4,
 "nbformat_minor": 5
}

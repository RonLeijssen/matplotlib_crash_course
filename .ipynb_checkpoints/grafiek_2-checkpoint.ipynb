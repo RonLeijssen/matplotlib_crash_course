{
 "cells": [
  {
   "cell_type": "markdown",
   "id": "ac9cafec",
   "metadata": {},
   "source": [
    "### Matplotlib tutorial\n",
    "\n",
    "Hier heb ik de tutorial Matplotlib Crash Course van freeCodeCamp.org geprobeerd."
   ]
  },
  {
   "cell_type": "markdown",
   "id": "e206cd0f",
   "metadata": {},
   "source": [
    "### Documentatie¶\n",
    "\n",
    "https://matplotlib.org/stable/api/_as_gen/matplotlib.pyplot.html"
   ]
  },
  {
   "cell_type": "markdown",
   "id": "6645eba0",
   "metadata": {},
   "source": [
    "### Load necessary libaries"
   ]
  },
  {
   "cell_type": "code",
   "execution_count": 1,
   "id": "9f7b6e5d",
   "metadata": {},
   "outputs": [],
   "source": [
    "import matplotlib.pyplot as plt"
   ]
  },
  {
   "cell_type": "code",
   "execution_count": 2,
   "id": "75ca3156",
   "metadata": {},
   "outputs": [],
   "source": [
    "x = [0,1,2,3,4,5,6,7,8]"
   ]
  },
  {
   "cell_type": "code",
   "execution_count": null,
   "id": "39f5a8e0",
   "metadata": {},
   "outputs": [],
   "source": []
  }
 ],
 "metadata": {
  "kernelspec": {
   "display_name": "Python 3",
   "language": "python",
   "name": "python3"
  },
  "language_info": {
   "codemirror_mode": {
    "name": "ipython",
    "version": 3
   },
   "file_extension": ".py",
   "mimetype": "text/x-python",
   "name": "python",
   "nbconvert_exporter": "python",
   "pygments_lexer": "ipython3",
   "version": "3.9.4"
  }
 },
 "nbformat": 4,
 "nbformat_minor": 5
}

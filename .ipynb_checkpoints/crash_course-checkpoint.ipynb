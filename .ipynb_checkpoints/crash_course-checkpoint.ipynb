{
 "cells": [
  {
   "cell_type": "markdown",
   "id": "e0e03da8",
   "metadata": {},
   "source": [
    "### Matplotlib tutorial\n",
    "Hier heb ik de tutorial Matplotlib Crash Course van freeCodeCamp.org geprobeerd."
   ]
  },
  {
   "cell_type": "markdown",
   "id": "113c16b5",
   "metadata": {},
   "source": [
    "### Load necessary libaries"
   ]
  },
  {
   "cell_type": "code",
   "execution_count": 2,
   "id": "7c68f6da",
   "metadata": {},
   "outputs": [],
   "source": [
    "import matplotlib.pyplot as plt\n",
    "import numpy as np\n",
    "import pandas as pd"
   ]
  },
  {
   "cell_type": "markdown",
   "id": "fb6d8172",
   "metadata": {},
   "source": [
    "###"
   ]
  }
 ],
 "metadata": {
  "kernelspec": {
   "display_name": "Python 3",
   "language": "python",
   "name": "python3"
  },
  "language_info": {
   "codemirror_mode": {
    "name": "ipython",
    "version": 3
   },
   "file_extension": ".py",
   "mimetype": "text/x-python",
   "name": "python",
   "nbconvert_exporter": "python",
   "pygments_lexer": "ipython3",
   "version": "3.9.4"
  }
 },
 "nbformat": 4,
 "nbformat_minor": 5
}
